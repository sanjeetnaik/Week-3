{
 "cells": [
  {
   "cell_type": "markdown",
   "id": "754b03ef",
   "metadata": {},
   "source": [
    "## Imports"
   ]
  },
  {
   "cell_type": "code",
   "execution_count": 589,
   "id": "0db89188",
   "metadata": {},
   "outputs": [],
   "source": [
    "from selenium import webdriver\n",
    "from selenium.webdriver.common.keys import Keys\n",
    "from selenium.webdriver.support import expected_conditions as EC\n",
    "from selenium.webdriver.common.by import By\n",
    "from selenium.webdriver.support.wait import WebDriverWait"
   ]
  },
  {
   "cell_type": "code",
   "execution_count": 590,
   "id": "748d658e",
   "metadata": {},
   "outputs": [],
   "source": [
    "import os\n",
    "import wget\n",
    "import time"
   ]
  },
  {
   "cell_type": "markdown",
   "id": "2bfad759",
   "metadata": {},
   "source": [
    "## Loggin Into Instagram"
   ]
  },
  {
   "cell_type": "code",
   "execution_count": 591,
   "id": "c3442e61",
   "metadata": {},
   "outputs": [],
   "source": [
    "driver_path = 'C:/Users/sanje/Chrome Drivers/chromedriver.exe'"
   ]
  },
  {
   "cell_type": "code",
   "execution_count": 592,
   "id": "f900efb9",
   "metadata": {},
   "outputs": [
    {
     "name": "stderr",
     "output_type": "stream",
     "text": [
      "C:\\Users\\sanje\\AppData\\Local\\Temp/ipykernel_10540/2650398687.py:1: DeprecationWarning: executable_path has been deprecated, please pass in a Service object\n",
      "  driver = webdriver.Chrome(driver_path)\n"
     ]
    }
   ],
   "source": [
    "driver = webdriver.Chrome(driver_path)"
   ]
  },
  {
   "cell_type": "code",
   "execution_count": 593,
   "id": "90ee1b92",
   "metadata": {},
   "outputs": [],
   "source": [
    "driver.get('https://www.instagram.com/')"
   ]
  },
  {
   "cell_type": "code",
   "execution_count": 594,
   "id": "7e9ffa48",
   "metadata": {},
   "outputs": [],
   "source": [
    "username = WebDriverWait(driver,10).until(EC.element_to_be_clickable((By.CSS_SELECTOR, \"input[name='username']\")))\n",
    "password = WebDriverWait(driver,10).until(EC.element_to_be_clickable((By.CSS_SELECTOR, \"input[name='password']\")))\n",
    "\n",
    "username.clear()\n",
    "password.clear()\n",
    "\n",
    "username.send_keys('sanjeetnaikk')\n",
    "password.send_keys('pwd')"
   ]
  },
  {
   "cell_type": "code",
   "execution_count": 595,
   "id": "59f1257b",
   "metadata": {},
   "outputs": [],
   "source": [
    "log_in = WebDriverWait(driver,20).until(EC.element_to_be_clickable((By.CSS_SELECTOR, \".y3zKF ._4EzTm\"))).click()"
   ]
  },
  {
   "cell_type": "code",
   "execution_count": 596,
   "id": "3578f96e",
   "metadata": {},
   "outputs": [],
   "source": [
    "not_now = WebDriverWait(driver,20).until(EC.element_to_be_clickable((By.XPATH, \"//button[contains(text(), 'Not Now')]\"))).click()"
   ]
  },
  {
   "cell_type": "code",
   "execution_count": 597,
   "id": "1978b3fc",
   "metadata": {},
   "outputs": [],
   "source": [
    "not_now2 = WebDriverWait(driver,20).until(EC.element_to_be_clickable((By.XPATH, \"//button[contains(text(), 'Not Now')]\"))).click()"
   ]
  },
  {
   "cell_type": "code",
   "execution_count": 598,
   "id": "d566da90",
   "metadata": {},
   "outputs": [],
   "source": [
    "searchbox = WebDriverWait(driver,20).until(EC.element_to_be_clickable((By.XPATH, \"//input[@placeholder='Search']\")))\n",
    "searchbox.clear()\n",
    "\n",
    "keyword = 'sanjeetnaikk'\n",
    "searchbox.send_keys(keyword)\n",
    "\n",
    "time.sleep(3)\n",
    "\n",
    "try:\n",
    "    searchbox.send_keys(Keys.ENTER)\n",
    "    searchbox.send_keys(Keys.ENTER)\n",
    "except:\n",
    "    print(\"error lol\")\n"
   ]
  },
  {
   "cell_type": "code",
   "execution_count": 599,
   "id": "fe60490e",
   "metadata": {},
   "outputs": [
    {
     "name": "stderr",
     "output_type": "stream",
     "text": [
      "C:\\Users\\sanje\\AppData\\Local\\Temp/ipykernel_10540/3102965544.py:1: DeprecationWarning: find_elements_by_* commands are deprecated. Please use find_elements() instead\n",
      "  ele = driver.find_elements_by_css_selector('._9AhH0')\n"
     ]
    }
   ],
   "source": [
    "ele = driver.find_elements_by_css_selector('._9AhH0')"
   ]
  },
  {
   "cell_type": "code",
   "execution_count": 600,
   "id": "71308339",
   "metadata": {},
   "outputs": [
    {
     "data": {
      "text/plain": [
       "[<selenium.webdriver.remote.webelement.WebElement (session=\"4b7a071a966ad256c9c8425171f8f873\", element=\"13b20ff8-149e-4ee6-bcae-fd067b4d55f7\")>,\n",
       " <selenium.webdriver.remote.webelement.WebElement (session=\"4b7a071a966ad256c9c8425171f8f873\", element=\"333ecef5-d78b-434c-a8e2-cadaa12097e5\")>,\n",
       " <selenium.webdriver.remote.webelement.WebElement (session=\"4b7a071a966ad256c9c8425171f8f873\", element=\"862ca0bd-f182-43ae-af4e-3487a97d9483\")>,\n",
       " <selenium.webdriver.remote.webelement.WebElement (session=\"4b7a071a966ad256c9c8425171f8f873\", element=\"d4047bce-012e-4a97-8481-d7827db6ebc1\")>,\n",
       " <selenium.webdriver.remote.webelement.WebElement (session=\"4b7a071a966ad256c9c8425171f8f873\", element=\"bdfebf6a-d467-4b1e-b4ff-24d20ec44b14\")>,\n",
       " <selenium.webdriver.remote.webelement.WebElement (session=\"4b7a071a966ad256c9c8425171f8f873\", element=\"b2c18c22-0e1d-4fcc-8bcd-781c2227b9cb\")>,\n",
       " <selenium.webdriver.remote.webelement.WebElement (session=\"4b7a071a966ad256c9c8425171f8f873\", element=\"9b4e4187-3210-4103-b0e4-a8ff127d0301\")>,\n",
       " <selenium.webdriver.remote.webelement.WebElement (session=\"4b7a071a966ad256c9c8425171f8f873\", element=\"b85946ec-d37e-4cff-9dfd-db6cd48e9c79\")>,\n",
       " <selenium.webdriver.remote.webelement.WebElement (session=\"4b7a071a966ad256c9c8425171f8f873\", element=\"78fcf081-7d43-40ac-bb4c-f704a4275f34\")>,\n",
       " <selenium.webdriver.remote.webelement.WebElement (session=\"4b7a071a966ad256c9c8425171f8f873\", element=\"c2229dfe-083f-4b8a-b1ee-696583b46b52\")>,\n",
       " <selenium.webdriver.remote.webelement.WebElement (session=\"4b7a071a966ad256c9c8425171f8f873\", element=\"39ecebe1-e6ab-4c0d-8769-43c3133412b2\")>]"
      ]
     },
     "execution_count": 600,
     "metadata": {},
     "output_type": "execute_result"
    }
   ],
   "source": [
    "ele"
   ]
  },
  {
   "cell_type": "code",
   "execution_count": 601,
   "id": "dcb62fc6",
   "metadata": {},
   "outputs": [
    {
     "name": "stdout",
     "output_type": "stream",
     "text": [
      "11\n"
     ]
    }
   ],
   "source": [
    "print(len(ele))"
   ]
  },
  {
   "cell_type": "code",
   "execution_count": 602,
   "id": "23f1ab74",
   "metadata": {},
   "outputs": [],
   "source": [
    "for i in ele:\n",
    "    i.click()\n",
    "    time.sleep(5)\n",
    "    driver.execute_script(\"window.history.go(-1)\")"
   ]
  },
  {
   "cell_type": "code",
   "execution_count": 603,
   "id": "b2d9f22a",
   "metadata": {},
   "outputs": [],
   "source": [
    "ele[0].click()"
   ]
  },
  {
   "cell_type": "code",
   "execution_count": 604,
   "id": "216e053b",
   "metadata": {},
   "outputs": [
    {
     "name": "stderr",
     "output_type": "stream",
     "text": [
      "C:\\Users\\sanje\\AppData\\Local\\Temp/ipykernel_10540/1684357996.py:1: DeprecationWarning: find_elements_by_* commands are deprecated. Please use find_elements() instead\n",
      "  ele2 = driver.find_elements_by_css_selector('.zV_Nj')\n"
     ]
    }
   ],
   "source": [
    "ele2 = driver.find_elements_by_css_selector('.zV_Nj')"
   ]
  },
  {
   "cell_type": "code",
   "execution_count": 605,
   "id": "0155e0be",
   "metadata": {
    "scrolled": true
   },
   "outputs": [
    {
     "data": {
      "text/plain": [
       "[<selenium.webdriver.remote.webelement.WebElement (session=\"4b7a071a966ad256c9c8425171f8f873\", element=\"27e927b6-db0b-4d36-aeee-876411a1b730\")>,\n",
       " <selenium.webdriver.remote.webelement.WebElement (session=\"4b7a071a966ad256c9c8425171f8f873\", element=\"e83459f4-1ba5-4fe8-8567-64500a8cfcaf\")>]"
      ]
     },
     "execution_count": 605,
     "metadata": {},
     "output_type": "execute_result"
    }
   ],
   "source": [
    "ele2"
   ]
  },
  {
   "cell_type": "code",
   "execution_count": 606,
   "id": "f618fc98",
   "metadata": {},
   "outputs": [],
   "source": [
    "ele2[1].click()"
   ]
  },
  {
   "cell_type": "code",
   "execution_count": 574,
   "id": "f5a58d98",
   "metadata": {},
   "outputs": [
    {
     "name": "stderr",
     "output_type": "stream",
     "text": [
      "C:\\Users\\sanje\\AppData\\Local\\Temp/ipykernel_10540/511338802.py:1: DeprecationWarning: find_elements_by_* commands are deprecated. Please use find_elements() instead\n",
      "  ele3 = driver.find_elements_by_css_selector('.MBL3Z')\n"
     ]
    }
   ],
   "source": [
    "ele3 = driver.find_elements_by_css_selector('.MBL3Z')"
   ]
  },
  {
   "cell_type": "code",
   "execution_count": 575,
   "id": "d6c3779c",
   "metadata": {},
   "outputs": [
    {
     "data": {
      "text/plain": [
       "[<selenium.webdriver.remote.webelement.WebElement (session=\"1d37d37c9c629881e3656edab468e6a3\", element=\"fa4d076b-5035-499d-9d2f-4d4c7962ab67\")>,\n",
       " <selenium.webdriver.remote.webelement.WebElement (session=\"1d37d37c9c629881e3656edab468e6a3\", element=\"faec7c23-4867-43a5-b42a-1a6316b22e74\")>,\n",
       " <selenium.webdriver.remote.webelement.WebElement (session=\"1d37d37c9c629881e3656edab468e6a3\", element=\"aef042af-dd2a-42b7-8a7d-594fe6c31acc\")>,\n",
       " <selenium.webdriver.remote.webelement.WebElement (session=\"1d37d37c9c629881e3656edab468e6a3\", element=\"29f87330-8c72-495c-949d-25590a6039cc\")>,\n",
       " <selenium.webdriver.remote.webelement.WebElement (session=\"1d37d37c9c629881e3656edab468e6a3\", element=\"7021b676-8cc8-4073-93cd-d78513b6750b\")>,\n",
       " <selenium.webdriver.remote.webelement.WebElement (session=\"1d37d37c9c629881e3656edab468e6a3\", element=\"4117c014-08ec-49bc-8f1a-f51083461e79\")>,\n",
       " <selenium.webdriver.remote.webelement.WebElement (session=\"1d37d37c9c629881e3656edab468e6a3\", element=\"46ce001b-8a12-420f-80aa-6b7f62c340e8\")>,\n",
       " <selenium.webdriver.remote.webelement.WebElement (session=\"1d37d37c9c629881e3656edab468e6a3\", element=\"ae8b05f7-7b2b-42fa-bee2-10c93bb1a7d5\")>,\n",
       " <selenium.webdriver.remote.webelement.WebElement (session=\"1d37d37c9c629881e3656edab468e6a3\", element=\"f3bba1da-982a-4049-adc5-fb4b7113e76f\")>,\n",
       " <selenium.webdriver.remote.webelement.WebElement (session=\"1d37d37c9c629881e3656edab468e6a3\", element=\"f713c5d7-414a-408d-b964-0e03b6663710\")>,\n",
       " <selenium.webdriver.remote.webelement.WebElement (session=\"1d37d37c9c629881e3656edab468e6a3\", element=\"6386ac63-c0e0-45a1-b73f-f4851f3becf1\")>]"
      ]
     },
     "execution_count": 575,
     "metadata": {},
     "output_type": "execute_result"
    }
   ],
   "source": [
    "ele3"
   ]
  },
  {
   "cell_type": "code",
   "execution_count": 576,
   "id": "65f881cf",
   "metadata": {},
   "outputs": [
    {
     "data": {
      "text/plain": [
       "11"
      ]
     },
     "execution_count": 576,
     "metadata": {},
     "output_type": "execute_result"
    }
   ],
   "source": [
    "len(ele3)"
   ]
  },
  {
   "cell_type": "code",
   "execution_count": 608,
   "id": "043dc12c",
   "metadata": {},
   "outputs": [
    {
     "name": "stderr",
     "output_type": "stream",
     "text": [
      "C:\\Users\\sanje\\AppData\\Local\\Temp/ipykernel_10540/1015009815.py:1: DeprecationWarning: find_element_by_* commands are deprecated. Please use find_element() instead\n",
      "  driver.find_element_by_xpath('/html/body/div[5]/div/div').click()\n"
     ]
    },
    {
     "ename": "NoSuchElementException",
     "evalue": "Message: no such element: Unable to locate element: {\"method\":\"xpath\",\"selector\":\"/html/body/div[5]/div/div\"}\n  (Session info: chrome=94.0.4606.81)\nStacktrace:\nBacktrace:\n\tOrdinal0 [0x005FBDE3+2473443]\n\tOrdinal0 [0x00596661+2057825]\n\tOrdinal0 [0x004A2438+1057848]\n\tOrdinal0 [0x004CC7DB+1230811]\n\tOrdinal0 [0x004F6712+1402642]\n\tOrdinal0 [0x004E571A+1333018]\n\tOrdinal0 [0x004F4ABF+1395391]\n\tOrdinal0 [0x004E55AB+1332651]\n\tOrdinal0 [0x004C2104+1188100]\n\tOrdinal0 [0x004C2F59+1191769]\n\tGetHandleVerifier [0x00782266+1549718]\n\tGetHandleVerifier [0x0082D4A7+2250711]\n\tGetHandleVerifier [0x0068718B+521403]\n\tGetHandleVerifier [0x00686229+517465]\n\tOrdinal0 [0x0059B79D+2078621]\n\tOrdinal0 [0x0059FB58+2095960]\n\tOrdinal0 [0x0059FC92+2096274]\n\tOrdinal0 [0x005A9541+2135361]\n\tBaseThreadInitThunk [0x75A16739+25]\n\tRtlGetFullPathName_UEx [0x77238AFF+1215]\n\tRtlGetFullPathName_UEx [0x77238ACD+1165]\n",
     "output_type": "error",
     "traceback": [
      "\u001b[1;31m---------------------------------------------------------------------------\u001b[0m",
      "\u001b[1;31mNoSuchElementException\u001b[0m                    Traceback (most recent call last)",
      "\u001b[1;32m~\\AppData\\Local\\Temp/ipykernel_10540/1015009815.py\u001b[0m in \u001b[0;36m<module>\u001b[1;34m\u001b[0m\n\u001b[1;32m----> 1\u001b[1;33m \u001b[0mdriver\u001b[0m\u001b[1;33m.\u001b[0m\u001b[0mfind_element_by_xpath\u001b[0m\u001b[1;33m(\u001b[0m\u001b[1;34m'/html/body/div[5]/div/div'\u001b[0m\u001b[1;33m)\u001b[0m\u001b[1;33m.\u001b[0m\u001b[0mclick\u001b[0m\u001b[1;33m(\u001b[0m\u001b[1;33m)\u001b[0m\u001b[1;33m\u001b[0m\u001b[1;33m\u001b[0m\u001b[0m\n\u001b[0m\u001b[0;32m      2\u001b[0m \u001b[0mactionChain\u001b[0m\u001b[1;33m.\u001b[0m\u001b[0mkey_down\u001b[0m\u001b[1;33m(\u001b[0m\u001b[0mKeys\u001b[0m\u001b[1;33m.\u001b[0m\u001b[0mSPACE\u001b[0m\u001b[1;33m)\u001b[0m\u001b[1;33m.\u001b[0m\u001b[0mkey_up\u001b[0m\u001b[1;33m(\u001b[0m\u001b[0mKeys\u001b[0m\u001b[1;33m.\u001b[0m\u001b[0mSPACE\u001b[0m\u001b[1;33m)\u001b[0m\u001b[1;33m.\u001b[0m\u001b[0mperform\u001b[0m\u001b[1;33m(\u001b[0m\u001b[1;33m)\u001b[0m\u001b[1;33m\u001b[0m\u001b[1;33m\u001b[0m\u001b[0m\n",
      "\u001b[1;32mc:\\users\\sanje\\appdata\\local\\programs\\python\\python39\\lib\\site-packages\\selenium\\webdriver\\remote\\webdriver.py\u001b[0m in \u001b[0;36mfind_element_by_xpath\u001b[1;34m(self, xpath)\u001b[0m\n\u001b[0;32m    512\u001b[0m             \u001b[0mstacklevel\u001b[0m\u001b[1;33m=\u001b[0m\u001b[1;36m2\u001b[0m\u001b[1;33m,\u001b[0m\u001b[1;33m\u001b[0m\u001b[1;33m\u001b[0m\u001b[0m\n\u001b[0;32m    513\u001b[0m         )\n\u001b[1;32m--> 514\u001b[1;33m         \u001b[1;32mreturn\u001b[0m \u001b[0mself\u001b[0m\u001b[1;33m.\u001b[0m\u001b[0mfind_element\u001b[0m\u001b[1;33m(\u001b[0m\u001b[0mby\u001b[0m\u001b[1;33m=\u001b[0m\u001b[0mBy\u001b[0m\u001b[1;33m.\u001b[0m\u001b[0mXPATH\u001b[0m\u001b[1;33m,\u001b[0m \u001b[0mvalue\u001b[0m\u001b[1;33m=\u001b[0m\u001b[0mxpath\u001b[0m\u001b[1;33m)\u001b[0m\u001b[1;33m\u001b[0m\u001b[1;33m\u001b[0m\u001b[0m\n\u001b[0m\u001b[0;32m    515\u001b[0m \u001b[1;33m\u001b[0m\u001b[0m\n\u001b[0;32m    516\u001b[0m     \u001b[1;32mdef\u001b[0m \u001b[0mfind_elements_by_xpath\u001b[0m\u001b[1;33m(\u001b[0m\u001b[0mself\u001b[0m\u001b[1;33m,\u001b[0m \u001b[0mxpath\u001b[0m\u001b[1;33m)\u001b[0m \u001b[1;33m->\u001b[0m \u001b[0mWebElement\u001b[0m\u001b[1;33m:\u001b[0m\u001b[1;33m\u001b[0m\u001b[1;33m\u001b[0m\u001b[0m\n",
      "\u001b[1;32mc:\\users\\sanje\\appdata\\local\\programs\\python\\python39\\lib\\site-packages\\selenium\\webdriver\\remote\\webdriver.py\u001b[0m in \u001b[0;36mfind_element\u001b[1;34m(self, by, value)\u001b[0m\n\u001b[0;32m   1236\u001b[0m             \u001b[0mvalue\u001b[0m \u001b[1;33m=\u001b[0m \u001b[1;34m'[name=\"%s\"]'\u001b[0m \u001b[1;33m%\u001b[0m \u001b[0mvalue\u001b[0m\u001b[1;33m\u001b[0m\u001b[1;33m\u001b[0m\u001b[0m\n\u001b[0;32m   1237\u001b[0m \u001b[1;33m\u001b[0m\u001b[0m\n\u001b[1;32m-> 1238\u001b[1;33m         return self.execute(Command.FIND_ELEMENT, {\n\u001b[0m\u001b[0;32m   1239\u001b[0m             \u001b[1;34m'using'\u001b[0m\u001b[1;33m:\u001b[0m \u001b[0mby\u001b[0m\u001b[1;33m,\u001b[0m\u001b[1;33m\u001b[0m\u001b[1;33m\u001b[0m\u001b[0m\n\u001b[0;32m   1240\u001b[0m             'value': value})['value']\n",
      "\u001b[1;32mc:\\users\\sanje\\appdata\\local\\programs\\python\\python39\\lib\\site-packages\\selenium\\webdriver\\remote\\webdriver.py\u001b[0m in \u001b[0;36mexecute\u001b[1;34m(self, driver_command, params)\u001b[0m\n\u001b[0;32m    416\u001b[0m         \u001b[0mresponse\u001b[0m \u001b[1;33m=\u001b[0m \u001b[0mself\u001b[0m\u001b[1;33m.\u001b[0m\u001b[0mcommand_executor\u001b[0m\u001b[1;33m.\u001b[0m\u001b[0mexecute\u001b[0m\u001b[1;33m(\u001b[0m\u001b[0mdriver_command\u001b[0m\u001b[1;33m,\u001b[0m \u001b[0mparams\u001b[0m\u001b[1;33m)\u001b[0m\u001b[1;33m\u001b[0m\u001b[1;33m\u001b[0m\u001b[0m\n\u001b[0;32m    417\u001b[0m         \u001b[1;32mif\u001b[0m \u001b[0mresponse\u001b[0m\u001b[1;33m:\u001b[0m\u001b[1;33m\u001b[0m\u001b[1;33m\u001b[0m\u001b[0m\n\u001b[1;32m--> 418\u001b[1;33m             \u001b[0mself\u001b[0m\u001b[1;33m.\u001b[0m\u001b[0merror_handler\u001b[0m\u001b[1;33m.\u001b[0m\u001b[0mcheck_response\u001b[0m\u001b[1;33m(\u001b[0m\u001b[0mresponse\u001b[0m\u001b[1;33m)\u001b[0m\u001b[1;33m\u001b[0m\u001b[1;33m\u001b[0m\u001b[0m\n\u001b[0m\u001b[0;32m    419\u001b[0m             response['value'] = self._unwrap_value(\n\u001b[0;32m    420\u001b[0m                 response.get('value', None))\n",
      "\u001b[1;32mc:\\users\\sanje\\appdata\\local\\programs\\python\\python39\\lib\\site-packages\\selenium\\webdriver\\remote\\errorhandler.py\u001b[0m in \u001b[0;36mcheck_response\u001b[1;34m(self, response)\u001b[0m\n\u001b[0;32m    241\u001b[0m                 \u001b[0malert_text\u001b[0m \u001b[1;33m=\u001b[0m \u001b[0mvalue\u001b[0m\u001b[1;33m[\u001b[0m\u001b[1;34m'alert'\u001b[0m\u001b[1;33m]\u001b[0m\u001b[1;33m.\u001b[0m\u001b[0mget\u001b[0m\u001b[1;33m(\u001b[0m\u001b[1;34m'text'\u001b[0m\u001b[1;33m)\u001b[0m\u001b[1;33m\u001b[0m\u001b[1;33m\u001b[0m\u001b[0m\n\u001b[0;32m    242\u001b[0m             \u001b[1;32mraise\u001b[0m \u001b[0mexception_class\u001b[0m\u001b[1;33m(\u001b[0m\u001b[0mmessage\u001b[0m\u001b[1;33m,\u001b[0m \u001b[0mscreen\u001b[0m\u001b[1;33m,\u001b[0m \u001b[0mstacktrace\u001b[0m\u001b[1;33m,\u001b[0m \u001b[0malert_text\u001b[0m\u001b[1;33m)\u001b[0m  \u001b[1;31m# type: ignore[call-arg]  # mypy is not smart enough here\u001b[0m\u001b[1;33m\u001b[0m\u001b[1;33m\u001b[0m\u001b[0m\n\u001b[1;32m--> 243\u001b[1;33m         \u001b[1;32mraise\u001b[0m \u001b[0mexception_class\u001b[0m\u001b[1;33m(\u001b[0m\u001b[0mmessage\u001b[0m\u001b[1;33m,\u001b[0m \u001b[0mscreen\u001b[0m\u001b[1;33m,\u001b[0m \u001b[0mstacktrace\u001b[0m\u001b[1;33m)\u001b[0m\u001b[1;33m\u001b[0m\u001b[1;33m\u001b[0m\u001b[0m\n\u001b[0m\u001b[0;32m    244\u001b[0m \u001b[1;33m\u001b[0m\u001b[0m\n\u001b[0;32m    245\u001b[0m     \u001b[1;32mdef\u001b[0m \u001b[0m_value_or_default\u001b[0m\u001b[1;33m(\u001b[0m\u001b[0mself\u001b[0m\u001b[1;33m,\u001b[0m \u001b[0mobj\u001b[0m\u001b[1;33m:\u001b[0m \u001b[0mMapping\u001b[0m\u001b[1;33m[\u001b[0m\u001b[0m_KT\u001b[0m\u001b[1;33m,\u001b[0m \u001b[0m_VT\u001b[0m\u001b[1;33m]\u001b[0m\u001b[1;33m,\u001b[0m \u001b[0mkey\u001b[0m\u001b[1;33m:\u001b[0m \u001b[0m_KT\u001b[0m\u001b[1;33m,\u001b[0m \u001b[0mdefault\u001b[0m\u001b[1;33m:\u001b[0m \u001b[0m_VT\u001b[0m\u001b[1;33m)\u001b[0m \u001b[1;33m->\u001b[0m \u001b[0m_VT\u001b[0m\u001b[1;33m:\u001b[0m\u001b[1;33m\u001b[0m\u001b[1;33m\u001b[0m\u001b[0m\n",
      "\u001b[1;31mNoSuchElementException\u001b[0m: Message: no such element: Unable to locate element: {\"method\":\"xpath\",\"selector\":\"/html/body/div[5]/div/div\"}\n  (Session info: chrome=94.0.4606.81)\nStacktrace:\nBacktrace:\n\tOrdinal0 [0x005FBDE3+2473443]\n\tOrdinal0 [0x00596661+2057825]\n\tOrdinal0 [0x004A2438+1057848]\n\tOrdinal0 [0x004CC7DB+1230811]\n\tOrdinal0 [0x004F6712+1402642]\n\tOrdinal0 [0x004E571A+1333018]\n\tOrdinal0 [0x004F4ABF+1395391]\n\tOrdinal0 [0x004E55AB+1332651]\n\tOrdinal0 [0x004C2104+1188100]\n\tOrdinal0 [0x004C2F59+1191769]\n\tGetHandleVerifier [0x00782266+1549718]\n\tGetHandleVerifier [0x0082D4A7+2250711]\n\tGetHandleVerifier [0x0068718B+521403]\n\tGetHandleVerifier [0x00686229+517465]\n\tOrdinal0 [0x0059B79D+2078621]\n\tOrdinal0 [0x0059FB58+2095960]\n\tOrdinal0 [0x0059FC92+2096274]\n\tOrdinal0 [0x005A9541+2135361]\n\tBaseThreadInitThunk [0x75A16739+25]\n\tRtlGetFullPathName_UEx [0x77238AFF+1215]\n\tRtlGetFullPathName_UEx [0x77238ACD+1165]\n"
     ]
    }
   ],
   "source": []
  },
  {
   "cell_type": "code",
   "execution_count": null,
   "id": "66ae13f1",
   "metadata": {},
   "outputs": [],
   "source": []
  }
 ],
 "metadata": {
  "kernelspec": {
   "display_name": "Python 3 (ipykernel)",
   "language": "python",
   "name": "python3"
  },
  "language_info": {
   "codemirror_mode": {
    "name": "ipython",
    "version": 3
   },
   "file_extension": ".py",
   "mimetype": "text/x-python",
   "name": "python",
   "nbconvert_exporter": "python",
   "pygments_lexer": "ipython3",
   "version": "3.9.6"
  }
 },
 "nbformat": 4,
 "nbformat_minor": 5
}
