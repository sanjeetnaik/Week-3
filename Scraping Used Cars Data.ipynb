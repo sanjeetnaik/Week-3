{
 "cells": [
  {
   "cell_type": "markdown",
   "id": "541abdea",
   "metadata": {},
   "source": [
    "# Import Statements"
   ]
  },
  {
   "cell_type": "code",
   "execution_count": 228,
   "id": "ff73e392",
   "metadata": {},
   "outputs": [],
   "source": [
    "from selenium import webdriver\n",
    "from selenium.webdriver.common.keys import Keys\n",
    "from selenium.webdriver.support import expected_conditions as EC\n",
    "from selenium.webdriver.common.by import By\n",
    "from selenium.webdriver.support.wait import WebDriverWait\n",
    "from selenium.webdriver.chrome.options import Options\n",
    "import os\n",
    "import wget\n",
    "import time\n",
    "import pandas as pd"
   ]
  },
  {
   "cell_type": "markdown",
   "id": "2bc5dfb4",
   "metadata": {},
   "source": [
    "# Disabling Google Location Notification"
   ]
  },
  {
   "cell_type": "code",
   "execution_count": 229,
   "id": "0c3f5859",
   "metadata": {},
   "outputs": [],
   "source": [
    "options1 = Options()\n",
    "options1.add_argument(\"--disable-notifications\")"
   ]
  },
  {
   "cell_type": "markdown",
   "id": "fe15456d",
   "metadata": {},
   "source": [
    "# Setting Driver Path And Initializing Driver"
   ]
  },
  {
   "cell_type": "code",
   "execution_count": 230,
   "id": "fe202384",
   "metadata": {},
   "outputs": [
    {
     "name": "stderr",
     "output_type": "stream",
     "text": [
      "C:\\Users\\sanje\\AppData\\Local\\Temp/ipykernel_1180/226995219.py:2: DeprecationWarning: executable_path has been deprecated, please pass in a Service object\n",
      "  driver = webdriver.Chrome(executable_path=driver_path, chrome_options=options1)\n",
      "C:\\Users\\sanje\\AppData\\Local\\Temp/ipykernel_1180/226995219.py:2: DeprecationWarning: use options instead of chrome_options\n",
      "  driver = webdriver.Chrome(executable_path=driver_path, chrome_options=options1)\n"
     ]
    }
   ],
   "source": [
    "driver_path = 'C:/Users/sanje/Chrome Drivers/chromedriver.exe'\n",
    "driver = webdriver.Chrome(executable_path=driver_path, chrome_options=options1)"
   ]
  },
  {
   "cell_type": "markdown",
   "id": "dde6c559",
   "metadata": {},
   "source": [
    "# Getting The Designated Website"
   ]
  },
  {
   "cell_type": "code",
   "execution_count": 231,
   "id": "05a907f9",
   "metadata": {},
   "outputs": [],
   "source": [
    "link = 'https://www.carwale.com/used/cars-for-sale/#sc=-1&so=-1&city=105&pc=105'"
   ]
  },
  {
   "cell_type": "code",
   "execution_count": 232,
   "id": "1dfaba9b",
   "metadata": {},
   "outputs": [],
   "source": [
    "driver.get(link)"
   ]
  },
  {
   "cell_type": "markdown",
   "id": "2ac06bb8",
   "metadata": {},
   "source": [
    "# Loading the whole page in one shot"
   ]
  },
  {
   "cell_type": "code",
   "execution_count": 233,
   "id": "4597d7ab",
   "metadata": {},
   "outputs": [],
   "source": [
    "SCROLL_PAUSE_TIME = 0.5\n",
    "\n",
    "last_height = driver.execute_script(\"return document.body.scrollHeight\")\n",
    "\n",
    "while True:\n",
    "    driver.execute_script(\"window.scrollTo(0, document.body.scrollHeight);\")\n",
    "    time.sleep(SCROLL_PAUSE_TIME)\n",
    "    new_height = driver.execute_script(\"return document.body.scrollHeight\")\n",
    "    if new_height == last_height:\n",
    "        break\n",
    "    last_height = new_height"
   ]
  },
  {
   "cell_type": "markdown",
   "id": "064830a7",
   "metadata": {},
   "source": [
    "# Extracting Whole Chunk Of Data"
   ]
  },
  {
   "cell_type": "code",
   "execution_count": 234,
   "id": "d0ca01de",
   "metadata": {},
   "outputs": [],
   "source": [
    "\n",
    "#     The chunk of data is (year of manufacture, name of the model, price of the car, price of\n",
    "#     the car, kms driven, fuel type, fuel type, city of residence of the owner)\n",
    "    \n",
    "#     There are multiple fuel type values and price of the car because of the formatting\n",
    "#     of the website.\n",
    "    \n",
    "#     In the next sections we try to extract each of them out and create a list of final\n",
    "#     cars.\n",
    "    "
   ]
  },
  {
   "cell_type": "code",
   "execution_count": 235,
   "id": "2ba67f3e",
   "metadata": {},
   "outputs": [
    {
     "name": "stderr",
     "output_type": "stream",
     "text": [
      "C:\\Users\\sanje\\AppData\\Local\\Temp/ipykernel_1180/964615350.py:1: DeprecationWarning: find_elements_by_* commands are deprecated. Please use find_elements() instead\n",
      "  load = driver.find_elements_by_css_selector('.card-detail-block__data-table span')\n"
     ]
    }
   ],
   "source": [
    "load = driver.find_elements_by_css_selector('.card-detail-block__data-table span')"
   ]
  },
  {
   "cell_type": "code",
   "execution_count": 236,
   "id": "ee9ed30d",
   "metadata": {},
   "outputs": [
    {
     "data": {
      "text/plain": [
       "1966"
      ]
     },
     "execution_count": 236,
     "metadata": {},
     "output_type": "execute_result"
    }
   ],
   "source": [
    "len(load)"
   ]
  },
  {
   "cell_type": "markdown",
   "id": "974bc32f",
   "metadata": {},
   "source": [
    "# Creating the list of years that maybe present"
   ]
  },
  {
   "cell_type": "code",
   "execution_count": 237,
   "id": "fa6e468f",
   "metadata": {},
   "outputs": [],
   "source": [
    "lsofyears = [] \n",
    "for i in range(1990, 2025):\n",
    "    lsofyears.append(str(i))"
   ]
  },
  {
   "cell_type": "markdown",
   "id": "666d9c6e",
   "metadata": {},
   "source": [
    "# Creating Each Car Data"
   ]
  },
  {
   "cell_type": "code",
   "execution_count": 238,
   "id": "8ac87bc7",
   "metadata": {},
   "outputs": [],
   "source": [
    "popo= []\n",
    "c=0\n",
    "final= []\n",
    "for i in range(0,len(load),1):\n",
    "    if(load[i].text in lsofyears):\n",
    "        c+=1\n",
    "        if(c == 1):\n",
    "            popo.append(load[i].text)\n",
    "            clicks.append(load[i+1])\n",
    "        elif(c == 2):\n",
    "            c = 1\n",
    "            final.append(popo)\n",
    "            popo = []\n",
    "            popo.append(load[i].text)\n",
    "            clicks.append(load[i+1])\n",
    "    else:\n",
    "        popo.append(load[i].text)\n",
    "            "
   ]
  },
  {
   "cell_type": "code",
   "execution_count": 239,
   "id": "6f0b6bdc",
   "metadata": {},
   "outputs": [
    {
     "data": {
      "text/plain": [
       "245"
      ]
     },
     "execution_count": 239,
     "metadata": {},
     "output_type": "execute_result"
    }
   ],
   "source": [
    "len(final)"
   ]
  },
  {
   "cell_type": "code",
   "execution_count": 240,
   "id": "dd0f5af8",
   "metadata": {
    "scrolled": true
   },
   "outputs": [
    {
     "data": {
      "text/plain": [
       "[['2016',\n",
       "  'Maruti Suzuki Baleno Zeta 1.3',\n",
       "  '₹ 6.8 Lakh',\n",
       "  '6.8 Lakh',\n",
       "  '93,525 km',\n",
       "  'Diesel',\n",
       "  'Diesel',\n",
       "  'Hyderabad'],\n",
       " ['2017',\n",
       "  'Maruti Suzuki Wagon R 1.0 VXI AMT',\n",
       "  '₹ 5.2 Lakh',\n",
       "  '5.2 Lakh',\n",
       "  '40,904 km',\n",
       "  'Petrol',\n",
       "  'Petrol',\n",
       "  'Hyderabad']]"
      ]
     },
     "execution_count": 240,
     "metadata": {},
     "output_type": "execute_result"
    }
   ],
   "source": [
    "final[0:2]"
   ]
  },
  {
   "cell_type": "markdown",
   "id": "6d7612dd",
   "metadata": {},
   "source": [
    "# Finding Data Abberations"
   ]
  },
  {
   "cell_type": "code",
   "execution_count": 241,
   "id": "bff9ed99",
   "metadata": {},
   "outputs": [
    {
     "name": "stdout",
     "output_type": "stream",
     "text": [
      "['2012', 'Maruti Suzuki Wagon R 1.0 LXi CNG', '₹ 3.2 Lakh', '3.2 Lakh', '65,000 km', 'CNG + 1', 'Hyderabad'] 7\n",
      "['2012', 'Maruti Suzuki Wagon R 1.0 LXi CNG', '₹ 3.2 Lakh', '3.2 Lakh', '65,000 km', 'CNG + 1', 'Hyderabad'] 7\n"
     ]
    }
   ],
   "source": [
    "for i in final:\n",
    "    if(len(i) != 8):\n",
    "        print(i, len(i))"
   ]
  },
  {
   "cell_type": "markdown",
   "id": "78c3cde3",
   "metadata": {},
   "source": [
    "# Removing Redundant Data From List"
   ]
  },
  {
   "cell_type": "code",
   "execution_count": 242,
   "id": "b0b54ecf",
   "metadata": {},
   "outputs": [],
   "source": [
    "for i in final :\n",
    "    if(len(i) == 8):\n",
    "        i.pop(2)\n",
    "        i.pop(4)\n",
    "    elif(len(i) == 7):\n",
    "        i.pop(2)   "
   ]
  },
  {
   "cell_type": "markdown",
   "id": "2b3e3bd9",
   "metadata": {},
   "source": [
    "# Creating List Of Individual Columns"
   ]
  },
  {
   "cell_type": "code",
   "execution_count": 243,
   "id": "ccdf0bae",
   "metadata": {},
   "outputs": [],
   "source": [
    "year = []\n",
    "model =[]\n",
    "price = []\n",
    "kms = []\n",
    "fuel = []\n",
    "city= []"
   ]
  },
  {
   "cell_type": "code",
   "execution_count": 244,
   "id": "ecc1fad8",
   "metadata": {},
   "outputs": [],
   "source": [
    "for i in final:\n",
    "    year.append(i[0])\n",
    "    model.append(i[1])\n",
    "    price.append(i[2])\n",
    "    kms.append(i[3])\n",
    "    fuel.append(i[4])\n",
    "    city.append(i[5])"
   ]
  },
  {
   "cell_type": "markdown",
   "id": "cccd4404",
   "metadata": {},
   "source": [
    "# Converting Str To Float For kms And price"
   ]
  },
  {
   "cell_type": "code",
   "execution_count": 245,
   "id": "91bcce60",
   "metadata": {},
   "outputs": [],
   "source": [
    "temp_price = []\n",
    "for i in price:\n",
    "    if(len(i.split(' '))>1):\n",
    "        d= i.split(' ')[1]\n",
    "    if(len(i.split(' ')) == 1):  #thousands case\n",
    "        var = i.split(' ')[0]\n",
    "        var = var.replace(',','')\n",
    "        temp_price.append(float(var))\n",
    "    elif(d =='Lakh'):  #lakhs case\n",
    "        temp_price.append(float(i.split(' ')[0])*100000)\n",
    "    elif(d == 'Crore'):   #crore case\n",
    "        temp_price.append(float(i.split(' ')[0])*10000000)"
   ]
  },
  {
   "cell_type": "code",
   "execution_count": 246,
   "id": "8febdebe",
   "metadata": {},
   "outputs": [],
   "source": [
    "price = temp_price"
   ]
  },
  {
   "cell_type": "code",
   "execution_count": 247,
   "id": "dfc29132",
   "metadata": {},
   "outputs": [],
   "source": [
    "temp_kms = []\n",
    "for i in kms:\n",
    "    i = i.replace(',','')\n",
    "    d= i.split(' ')[1]\n",
    "    if(d =='km'):\n",
    "        temp_kms.append(float(i.split(' ')[0]))"
   ]
  },
  {
   "cell_type": "code",
   "execution_count": 248,
   "id": "5b17db8b",
   "metadata": {},
   "outputs": [],
   "source": [
    "kms  = temp_kms"
   ]
  },
  {
   "cell_type": "code",
   "execution_count": 249,
   "id": "7a5f1bd9",
   "metadata": {},
   "outputs": [
    {
     "data": {
      "text/plain": [
       "245"
      ]
     },
     "execution_count": 249,
     "metadata": {},
     "output_type": "execute_result"
    }
   ],
   "source": [
    "len(price)"
   ]
  },
  {
   "cell_type": "markdown",
   "id": "20202442",
   "metadata": {},
   "source": [
    "# Creating Brand Column"
   ]
  },
  {
   "cell_type": "code",
   "execution_count": 250,
   "id": "b777d5a3",
   "metadata": {},
   "outputs": [],
   "source": [
    "brand = []\n",
    "for i in model:\n",
    "    var = i.split(' ')[0]\n",
    "    if(var == 'Land'):\n",
    "        brand.append('Land Rover')\n",
    "    elif(var == 'Force'):\n",
    "        brand.append('Force Motors')\n",
    "    elif(var == 'Maruti'):\n",
    "        brand.append('Maruti Suzuki')\n",
    "    else:\n",
    "        brand.append(var)"
   ]
  },
  {
   "cell_type": "code",
   "execution_count": 251,
   "id": "798efaab",
   "metadata": {},
   "outputs": [
    {
     "data": {
      "text/plain": [
       "245"
      ]
     },
     "execution_count": 251,
     "metadata": {},
     "output_type": "execute_result"
    }
   ],
   "source": [
    "len(brand)"
   ]
  },
  {
   "cell_type": "markdown",
   "id": "13d7c613",
   "metadata": {},
   "source": [
    "# Creating model name "
   ]
  },
  {
   "cell_type": "code",
   "execution_count": 252,
   "id": "7454e595",
   "metadata": {},
   "outputs": [],
   "source": [
    "model_name = []\n",
    "for i in model:\n",
    "    var = i.split(' ')\n",
    "    if(var[0] == 'Land' and var[2] == 'Range'):\n",
    "        model_name.append(var[4])\n",
    "    elif(var[0] == 'Land' and var[2] != 'Range'):\n",
    "        model_name.append(var[2])\n",
    "    elif(var[0] == 'Force'):\n",
    "        model_name.append(var[2])\n",
    "    elif(var[0] == 'Maruti'):\n",
    "        model_name.append(var[2])\n",
    "    else:\n",
    "        model_name.append(var[1])"
   ]
  },
  {
   "cell_type": "code",
   "execution_count": 253,
   "id": "4784ef5b",
   "metadata": {},
   "outputs": [],
   "source": [
    "# model_name"
   ]
  },
  {
   "cell_type": "markdown",
   "id": "741618fa",
   "metadata": {},
   "source": [
    "# Creating Dictionary And Dataframe"
   ]
  },
  {
   "cell_type": "code",
   "execution_count": 254,
   "id": "60cd854c",
   "metadata": {},
   "outputs": [],
   "source": [
    "dict = {'year':year,'brand':brand,'full_model_name':model, 'model_name':model_name, 'price':price, 'distance_travelled(kms)': kms, 'fuel_type' : fuel, 'city':city}"
   ]
  },
  {
   "cell_type": "code",
   "execution_count": 255,
   "id": "96183a24",
   "metadata": {},
   "outputs": [],
   "source": [
    "df = pd.DataFrame(dict)"
   ]
  },
  {
   "cell_type": "code",
   "execution_count": 256,
   "id": "e6ccb79f",
   "metadata": {},
   "outputs": [
    {
     "data": {
      "text/html": [
       "<div>\n",
       "<style scoped>\n",
       "    .dataframe tbody tr th:only-of-type {\n",
       "        vertical-align: middle;\n",
       "    }\n",
       "\n",
       "    .dataframe tbody tr th {\n",
       "        vertical-align: top;\n",
       "    }\n",
       "\n",
       "    .dataframe thead th {\n",
       "        text-align: right;\n",
       "    }\n",
       "</style>\n",
       "<table border=\"1\" class=\"dataframe\">\n",
       "  <thead>\n",
       "    <tr style=\"text-align: right;\">\n",
       "      <th></th>\n",
       "      <th>year</th>\n",
       "      <th>brand</th>\n",
       "      <th>full_model_name</th>\n",
       "      <th>model_name</th>\n",
       "      <th>price</th>\n",
       "      <th>distance_travelled(kms)</th>\n",
       "      <th>fuel_type</th>\n",
       "      <th>city</th>\n",
       "    </tr>\n",
       "  </thead>\n",
       "  <tbody>\n",
       "    <tr>\n",
       "      <th>0</th>\n",
       "      <td>2016</td>\n",
       "      <td>Maruti Suzuki</td>\n",
       "      <td>Maruti Suzuki Baleno Zeta 1.3</td>\n",
       "      <td>Baleno</td>\n",
       "      <td>680000.0</td>\n",
       "      <td>93525.0</td>\n",
       "      <td>Diesel</td>\n",
       "      <td>Hyderabad</td>\n",
       "    </tr>\n",
       "    <tr>\n",
       "      <th>1</th>\n",
       "      <td>2017</td>\n",
       "      <td>Maruti Suzuki</td>\n",
       "      <td>Maruti Suzuki Wagon R 1.0 VXI AMT</td>\n",
       "      <td>Wagon</td>\n",
       "      <td>520000.0</td>\n",
       "      <td>40904.0</td>\n",
       "      <td>Petrol</td>\n",
       "      <td>Hyderabad</td>\n",
       "    </tr>\n",
       "    <tr>\n",
       "      <th>2</th>\n",
       "      <td>2004</td>\n",
       "      <td>Toyota</td>\n",
       "      <td>Toyota Qualis GS G1</td>\n",
       "      <td>Qualis</td>\n",
       "      <td>240000.0</td>\n",
       "      <td>209616.0</td>\n",
       "      <td>Diesel</td>\n",
       "      <td>Hyderabad</td>\n",
       "    </tr>\n",
       "    <tr>\n",
       "      <th>3</th>\n",
       "      <td>2014</td>\n",
       "      <td>Maruti Suzuki</td>\n",
       "      <td>Maruti Suzuki Ertiga ZDi</td>\n",
       "      <td>Ertiga</td>\n",
       "      <td>735000.0</td>\n",
       "      <td>43294.0</td>\n",
       "      <td>Diesel</td>\n",
       "      <td>Hyderabad</td>\n",
       "    </tr>\n",
       "    <tr>\n",
       "      <th>4</th>\n",
       "      <td>2013</td>\n",
       "      <td>Mercedes-Benz</td>\n",
       "      <td>Mercedes-Benz E-Class E250 CDI Avantgarde</td>\n",
       "      <td>E-Class</td>\n",
       "      <td>1850000.0</td>\n",
       "      <td>89000.0</td>\n",
       "      <td>Diesel</td>\n",
       "      <td>Hyderabad</td>\n",
       "    </tr>\n",
       "    <tr>\n",
       "      <th>...</th>\n",
       "      <td>...</td>\n",
       "      <td>...</td>\n",
       "      <td>...</td>\n",
       "      <td>...</td>\n",
       "      <td>...</td>\n",
       "      <td>...</td>\n",
       "      <td>...</td>\n",
       "      <td>...</td>\n",
       "    </tr>\n",
       "    <tr>\n",
       "      <th>240</th>\n",
       "      <td>2010</td>\n",
       "      <td>Ford</td>\n",
       "      <td>Ford Endeavour 3.0L 4x4 AT</td>\n",
       "      <td>Endeavour</td>\n",
       "      <td>685000.0</td>\n",
       "      <td>115000.0</td>\n",
       "      <td>Diesel</td>\n",
       "      <td>Hyderabad</td>\n",
       "    </tr>\n",
       "    <tr>\n",
       "      <th>241</th>\n",
       "      <td>2020</td>\n",
       "      <td>Hyundai</td>\n",
       "      <td>Hyundai Creta SX (O) 1.5 Diesel</td>\n",
       "      <td>Creta</td>\n",
       "      <td>1890000.0</td>\n",
       "      <td>23906.0</td>\n",
       "      <td>Diesel</td>\n",
       "      <td>Hyderabad</td>\n",
       "    </tr>\n",
       "    <tr>\n",
       "      <th>242</th>\n",
       "      <td>2017</td>\n",
       "      <td>Mahindra</td>\n",
       "      <td>Mahindra Thar CRDe 4x4 AC1</td>\n",
       "      <td>Thar</td>\n",
       "      <td>875000.0</td>\n",
       "      <td>76000.0</td>\n",
       "      <td>Diesel</td>\n",
       "      <td>Hyderabad</td>\n",
       "    </tr>\n",
       "    <tr>\n",
       "      <th>243</th>\n",
       "      <td>2018</td>\n",
       "      <td>Hyundai</td>\n",
       "      <td>Hyundai Grand i10 Asta 1.2 Kappa VTVT [2013-2016]</td>\n",
       "      <td>Grand</td>\n",
       "      <td>625000.0</td>\n",
       "      <td>43000.0</td>\n",
       "      <td>Petrol</td>\n",
       "      <td>Hyderabad</td>\n",
       "    </tr>\n",
       "    <tr>\n",
       "      <th>244</th>\n",
       "      <td>2018</td>\n",
       "      <td>Toyota</td>\n",
       "      <td>Toyota Innova Crysta 2.4 VX 7 STR [2016-2020]</td>\n",
       "      <td>Innova</td>\n",
       "      <td>1875000.0</td>\n",
       "      <td>142000.0</td>\n",
       "      <td>Diesel</td>\n",
       "      <td>Hyderabad</td>\n",
       "    </tr>\n",
       "  </tbody>\n",
       "</table>\n",
       "<p>245 rows × 8 columns</p>\n",
       "</div>"
      ],
      "text/plain": [
       "     year          brand                                    full_model_name  \\\n",
       "0    2016  Maruti Suzuki                      Maruti Suzuki Baleno Zeta 1.3   \n",
       "1    2017  Maruti Suzuki                  Maruti Suzuki Wagon R 1.0 VXI AMT   \n",
       "2    2004         Toyota                                Toyota Qualis GS G1   \n",
       "3    2014  Maruti Suzuki                           Maruti Suzuki Ertiga ZDi   \n",
       "4    2013  Mercedes-Benz          Mercedes-Benz E-Class E250 CDI Avantgarde   \n",
       "..    ...            ...                                                ...   \n",
       "240  2010           Ford                         Ford Endeavour 3.0L 4x4 AT   \n",
       "241  2020        Hyundai                    Hyundai Creta SX (O) 1.5 Diesel   \n",
       "242  2017       Mahindra                         Mahindra Thar CRDe 4x4 AC1   \n",
       "243  2018        Hyundai  Hyundai Grand i10 Asta 1.2 Kappa VTVT [2013-2016]   \n",
       "244  2018         Toyota      Toyota Innova Crysta 2.4 VX 7 STR [2016-2020]   \n",
       "\n",
       "    model_name      price  distance_travelled(kms) fuel_type       city  \n",
       "0       Baleno   680000.0                  93525.0    Diesel  Hyderabad  \n",
       "1        Wagon   520000.0                  40904.0    Petrol  Hyderabad  \n",
       "2       Qualis   240000.0                 209616.0    Diesel  Hyderabad  \n",
       "3       Ertiga   735000.0                  43294.0    Diesel  Hyderabad  \n",
       "4      E-Class  1850000.0                  89000.0    Diesel  Hyderabad  \n",
       "..         ...        ...                      ...       ...        ...  \n",
       "240  Endeavour   685000.0                 115000.0    Diesel  Hyderabad  \n",
       "241      Creta  1890000.0                  23906.0    Diesel  Hyderabad  \n",
       "242       Thar   875000.0                  76000.0    Diesel  Hyderabad  \n",
       "243      Grand   625000.0                  43000.0    Petrol  Hyderabad  \n",
       "244     Innova  1875000.0                 142000.0    Diesel  Hyderabad  \n",
       "\n",
       "[245 rows x 8 columns]"
      ]
     },
     "execution_count": 256,
     "metadata": {},
     "output_type": "execute_result"
    }
   ],
   "source": [
    "df"
   ]
  },
  {
   "cell_type": "markdown",
   "id": "c5f09005",
   "metadata": {},
   "source": [
    "# Saving Dataframe To CSV"
   ]
  },
  {
   "cell_type": "code",
   "execution_count": 257,
   "id": "64864c69",
   "metadata": {},
   "outputs": [],
   "source": [
    "df.to_csv('UsedCars_Hyderabad.csv')"
   ]
  },
  {
   "cell_type": "code",
   "execution_count": null,
   "id": "28b76a53",
   "metadata": {},
   "outputs": [],
   "source": []
  }
 ],
 "metadata": {
  "kernelspec": {
   "display_name": "Python 3 (ipykernel)",
   "language": "python",
   "name": "python3"
  },
  "language_info": {
   "codemirror_mode": {
    "name": "ipython",
    "version": 3
   },
   "file_extension": ".py",
   "mimetype": "text/x-python",
   "name": "python",
   "nbconvert_exporter": "python",
   "pygments_lexer": "ipython3",
   "version": "3.9.6"
  }
 },
 "nbformat": 4,
 "nbformat_minor": 5
}
